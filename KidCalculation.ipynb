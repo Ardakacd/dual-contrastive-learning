{
 "cells": [
  {
   "cell_type": "code",
   "execution_count": 2,
   "id": "5ec5b2f8-e128-4c90-bdca-62a9be4949ca",
   "metadata": {},
   "outputs": [
    {
     "name": "stdout",
     "output_type": "stream",
     "text": [
      "tensor(0.2061)\n"
     ]
    }
   ],
   "source": [
    "import torch\n",
    "import os\n",
    "import numpy as np\n",
    "from PIL import Image\n",
    "from torchmetrics.image.kid import KernelInceptionDistance\n",
    "\n",
    "\n",
    "kid = KernelInceptionDistance(subset_size=4)\n",
    "\n",
    "def load_and_convert_image(file_path):\n",
    "    img = Image.open(file_path).resize((480, 640))\n",
    "    img_array = np.array(img)\n",
    "    img_tensor = torch.tensor(img_array, dtype=torch.uint8)\n",
    "    img_tensor = img_tensor.permute(2, 0, 1)  # Ensure correct dimension order: channels, height, width\n",
    "    return img_tensor.unsqueeze(0)  # Add batch dimension\n",
    "\n",
    "def compute_kid_for_folder(folder_path, real=True):\n",
    "    files = os.listdir(folder_path)\n",
    "    for file in files:\n",
    "        img_path = os.path.join(folder_path, file)\n",
    "        img = load_and_convert_image(img_path)\n",
    "        kid.update(img, real=real)\n",
    "\n",
    "\n",
    "real_images_folder = \"./CycleGAN/results/unstained/real/images\"\n",
    "generated_images_folder = \"./CycleGAN/results/stained/real/images\"\n",
    "\n",
    "compute_kid_for_folder(real_images_folder, real=True)\n",
    "\n",
    "compute_kid_for_folder(generated_images_folder, real=False)\n",
    "\n",
    "\n",
    "kid_mean, kid_std = kid.compute()\n",
    "\n",
    "print(kid_mean)"
   ]
  },
  {
   "cell_type": "code",
   "execution_count": null,
   "id": "5279f6f4-ae39-4f1d-9370-19cc0724190b",
   "metadata": {},
   "outputs": [],
   "source": []
  }
 ],
 "metadata": {
  "kernelspec": {
   "display_name": "Python 3 (ipykernel)",
   "language": "python",
   "name": "python3"
  },
  "language_info": {
   "codemirror_mode": {
    "name": "ipython",
    "version": 3
   },
   "file_extension": ".py",
   "mimetype": "text/x-python",
   "name": "python",
   "nbconvert_exporter": "python",
   "pygments_lexer": "ipython3",
   "version": "3.10.13"
  }
 },
 "nbformat": 4,
 "nbformat_minor": 5
}
